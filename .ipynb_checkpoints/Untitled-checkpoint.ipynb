{
 "cells": [
  {
   "cell_type": "code",
   "execution_count": 1,
   "id": "743df01c-d9cb-4a87-900d-6f472448058a",
   "metadata": {},
   "outputs": [],
   "source": [
    "import torch\n",
    "import torch.nn as nn\n",
    "import torch.nn.functional as F\n",
    "import sys\n",
    "sys.path.insert(0, \"models\")"
   ]
  },
  {
   "cell_type": "code",
   "execution_count": 3,
   "id": "daf59cb6-5471-4aea-8cf3-e8030694a452",
   "metadata": {
    "scrolled": true
   },
   "outputs": [
    {
     "name": "stdout",
     "output_type": "stream",
     "text": [
      "The autoreload extension is already loaded. To reload it, use:\n",
      "  %reload_ext autoreload\n"
     ]
    }
   ],
   "source": [
    "%load_ext autoreload\n",
    "%autoreload 1\n",
    "%aimport UNet\n",
    "from UNet import UNetSkipConnectionBlock, UNet, UNetConfig"
   ]
  },
  {
   "cell_type": "code",
   "execution_count": 4,
   "id": "fe98d67d-f1ad-4d51-8814-357834c33458",
   "metadata": {},
   "outputs": [],
   "source": [
    "config = UNetConfig()"
   ]
  },
  {
   "cell_type": "code",
   "execution_count": 7,
   "id": "af699ddc-f443-4335-908c-4e3792f0c9d6",
   "metadata": {},
   "outputs": [],
   "source": [
    "unet = UNet(config)"
   ]
  },
  {
   "cell_type": "code",
   "execution_count": 8,
   "id": "189b9b12-7f67-42b0-b36d-da3c59707fcf",
   "metadata": {},
   "outputs": [
    {
     "data": {
      "text/plain": [
       "UNet(\n",
       "  (model): UNetSkipConnectionBlock(\n",
       "    (model): Sequential(\n",
       "      (0): Conv2d(3, 64, kernel_size=(4, 4), stride=(2, 2), padding=(1, 1), bias=False)\n",
       "      (1): UNetSkipConnectionBlock(\n",
       "        (model): Sequential(\n",
       "          (0): LeakyReLU(negative_slope=0.2, inplace=True)\n",
       "          (1): Conv2d(64, 128, kernel_size=(4, 4), stride=(2, 2), padding=(1, 1), bias=False)\n",
       "          (2): BatchNorm2d(128, eps=1e-05, momentum=0.1, affine=True, track_running_stats=True)\n",
       "          (3): UNetSkipConnectionBlock(\n",
       "            (model): Sequential(\n",
       "              (0): LeakyReLU(negative_slope=0.2, inplace=True)\n",
       "              (1): Conv2d(128, 256, kernel_size=(4, 4), stride=(2, 2), padding=(1, 1), bias=False)\n",
       "              (2): BatchNorm2d(256, eps=1e-05, momentum=0.1, affine=True, track_running_stats=True)\n",
       "              (3): UNetSkipConnectionBlock(\n",
       "                (model): Sequential(\n",
       "                  (0): LeakyReLU(negative_slope=0.2, inplace=True)\n",
       "                  (1): Conv2d(256, 512, kernel_size=(4, 4), stride=(2, 2), padding=(1, 1), bias=False)\n",
       "                  (2): BatchNorm2d(512, eps=1e-05, momentum=0.1, affine=True, track_running_stats=True)\n",
       "                  (3): UNetSkipConnectionBlock(\n",
       "                    (model): Sequential(\n",
       "                      (0): LeakyReLU(negative_slope=0.2, inplace=True)\n",
       "                      (1): Conv2d(512, 512, kernel_size=(4, 4), stride=(2, 2), padding=(1, 1), bias=False)\n",
       "                      (2): BatchNorm2d(512, eps=1e-05, momentum=0.1, affine=True, track_running_stats=True)\n",
       "                      (3): UNetSkipConnectionBlock(\n",
       "                        (model): Sequential(\n",
       "                          (0): LeakyReLU(negative_slope=0.2, inplace=True)\n",
       "                          (1): Conv2d(512, 512, kernel_size=(4, 4), stride=(2, 2), padding=(1, 1), bias=False)\n",
       "                          (2): BatchNorm2d(512, eps=1e-05, momentum=0.1, affine=True, track_running_stats=True)\n",
       "                          (3): UNetSkipConnectionBlock(\n",
       "                            (model): Sequential(\n",
       "                              (0): LeakyReLU(negative_slope=0.2, inplace=True)\n",
       "                              (1): Conv2d(512, 512, kernel_size=(4, 4), stride=(2, 2), padding=(1, 1), bias=False)\n",
       "                              (2): BatchNorm2d(512, eps=1e-05, momentum=0.1, affine=True, track_running_stats=True)\n",
       "                              (3): UNetSkipConnectionBlock(\n",
       "                                (model): Sequential(\n",
       "                                  (0): LeakyReLU(negative_slope=0.2, inplace=True)\n",
       "                                  (1): Conv2d(512, 512, kernel_size=(4, 4), stride=(2, 2), padding=(1, 1), bias=False)\n",
       "                                  (2): ReLU(inplace=True)\n",
       "                                  (3): ConvTranspose2d(512, 512, kernel_size=(4, 4), stride=(2, 2), padding=(1, 1), bias=False)\n",
       "                                  (4): BatchNorm2d(512, eps=1e-05, momentum=0.1, affine=True, track_running_stats=True)\n",
       "                                )\n",
       "                              )\n",
       "                              (4): ReLU(inplace=True)\n",
       "                              (5): ConvTranspose2d(1024, 512, kernel_size=(4, 4), stride=(2, 2), padding=(1, 1), bias=False)\n",
       "                              (6): BatchNorm2d(512, eps=1e-05, momentum=0.1, affine=True, track_running_stats=True)\n",
       "                            )\n",
       "                          )\n",
       "                          (4): ReLU(inplace=True)\n",
       "                          (5): ConvTranspose2d(1024, 512, kernel_size=(4, 4), stride=(2, 2), padding=(1, 1), bias=False)\n",
       "                          (6): BatchNorm2d(512, eps=1e-05, momentum=0.1, affine=True, track_running_stats=True)\n",
       "                        )\n",
       "                      )\n",
       "                      (4): ReLU(inplace=True)\n",
       "                      (5): ConvTranspose2d(1024, 512, kernel_size=(4, 4), stride=(2, 2), padding=(1, 1), bias=False)\n",
       "                      (6): BatchNorm2d(512, eps=1e-05, momentum=0.1, affine=True, track_running_stats=True)\n",
       "                    )\n",
       "                  )\n",
       "                  (4): ReLU(inplace=True)\n",
       "                  (5): ConvTranspose2d(1024, 256, kernel_size=(4, 4), stride=(2, 2), padding=(1, 1), bias=False)\n",
       "                  (6): BatchNorm2d(256, eps=1e-05, momentum=0.1, affine=True, track_running_stats=True)\n",
       "                )\n",
       "              )\n",
       "              (4): ReLU(inplace=True)\n",
       "              (5): ConvTranspose2d(512, 128, kernel_size=(4, 4), stride=(2, 2), padding=(1, 1), bias=False)\n",
       "              (6): BatchNorm2d(128, eps=1e-05, momentum=0.1, affine=True, track_running_stats=True)\n",
       "            )\n",
       "          )\n",
       "          (4): ReLU(inplace=True)\n",
       "          (5): ConvTranspose2d(256, 64, kernel_size=(4, 4), stride=(2, 2), padding=(1, 1), bias=False)\n",
       "          (6): BatchNorm2d(64, eps=1e-05, momentum=0.1, affine=True, track_running_stats=True)\n",
       "        )\n",
       "      )\n",
       "      (2): ReLU(inplace=True)\n",
       "      (3): ConvTranspose2d(128, 3, kernel_size=(4, 4), stride=(2, 2), padding=(1, 1))\n",
       "      (4): Tanh()\n",
       "    )\n",
       "  )\n",
       ")"
      ]
     },
     "execution_count": 8,
     "metadata": {},
     "output_type": "execute_result"
    }
   ],
   "source": [
    "empty_input = torch.zeros()"
   ]
  },
  {
   "cell_type": "code",
   "execution_count": 4,
   "id": "b449082f-80a8-4a38-9477-d226bc7111ef",
   "metadata": {},
   "outputs": [],
   "source": [
    "downsample = nn.Conv2d(outer_nc, inner_nc, kernel_size=4, stride=2, padding=1)\n",
    "upsample = nn.ConvTranspose2d(inner_nc, outer_nc, kernel_size=4, stride=2, padding=1)"
   ]
  },
  {
   "cell_type": "code",
   "execution_count": null,
   "id": "64f7b928-a9c7-4de8-8c6b-0462c87f6983",
   "metadata": {},
   "outputs": [],
   "source": []
  },
  {
   "cell_type": "code",
   "execution_count": 7,
   "id": "1ebf89fc-0725-4c36-97f2-f307f7ae28ab",
   "metadata": {},
   "outputs": [
    {
     "data": {
      "text/plain": [
       "torch.Size([1, 3, 256, 256])"
      ]
     },
     "execution_count": 7,
     "metadata": {},
     "output_type": "execute_result"
    }
   ],
   "source": [
    "input_image = torch.rand([1, 3, 256, 256])\n",
    "input_image.shape"
   ]
  },
  {
   "cell_type": "code",
   "execution_count": 9,
   "id": "a374de38-268e-46d9-9850-f022357b2024",
   "metadata": {},
   "outputs": [
    {
     "data": {
      "text/plain": [
       "torch.Size([1, 3, 256, 256])"
      ]
     },
     "execution_count": 9,
     "metadata": {},
     "output_type": "execute_result"
    }
   ],
   "source": [
    "upsample(downsample(input_image)).shape"
   ]
  },
  {
   "cell_type": "code",
   "execution_count": 53,
   "id": "0257f611-b932-40f3-be57-a1f0e68c86c4",
   "metadata": {},
   "outputs": [],
   "source": [
    "sub_block = UNetSkipConnectionBlock(32, 16, None, None, False, True)"
   ]
  },
  {
   "cell_type": "code",
   "execution_count": 33,
   "id": "88e58dfd-cc56-4662-a445-8e89f27ef482",
   "metadata": {},
   "outputs": [
    {
     "data": {
      "text/plain": [
       "Sequential(\n",
       "  (0): LeakyReLU(negative_slope=0.2, inplace=True)\n",
       "  (1): Conv2d(3, 16, kernel_size=(4, 4), stride=(2, 2), padding=(1, 1), bias=False)\n",
       "  (2): ReLU(inplace=True)\n",
       "  (3): ConvTranspose2d(16, 3, kernel_size=(4, 4), stride=(2, 2), padding=(1, 1), bias=False)\n",
       "  (4): BatchNorm2d(3, eps=1e-05, momentum=0.1, affine=True, track_running_stats=True)\n",
       ")"
      ]
     },
     "execution_count": 33,
     "metadata": {},
     "output_type": "execute_result"
    }
   ],
   "source": [
    "sub_block.model"
   ]
  },
  {
   "cell_type": "code",
   "execution_count": 54,
   "id": "aa78e936-a957-4493-893c-7217ad109044",
   "metadata": {},
   "outputs": [],
   "source": [
    "large_block = UNetSkipConnectionBlock(3, 32, 3, sub_block, True, False)"
   ]
  },
  {
   "cell_type": "code",
   "execution_count": 57,
   "id": "574a0aee-490d-40f3-83cd-f0d8246831a4",
   "metadata": {},
   "outputs": [],
   "source": [
    "out_image = large_block(input_image)"
   ]
  },
  {
   "cell_type": "code",
   "execution_count": 58,
   "id": "9caaa94e-2280-4f0d-a29f-2820757305c2",
   "metadata": {},
   "outputs": [
    {
     "name": "stdout",
     "output_type": "stream",
     "text": [
      "tensor(-0.9680, grad_fn=<MinBackward1>) tensor(0.9937, grad_fn=<MaxBackward1>)\n"
     ]
    }
   ],
   "source": [
    "print(out_image.min(), out_image.max())"
   ]
  },
  {
   "cell_type": "code",
   "execution_count": null,
   "id": "2e25172a-c756-4c26-ba8e-26c14b583ab3",
   "metadata": {},
   "outputs": [],
   "source": []
  }
 ],
 "metadata": {
  "kernelspec": {
   "display_name": "Python 3 (ipykernel)",
   "language": "python",
   "name": "python3"
  },
  "language_info": {
   "codemirror_mode": {
    "name": "ipython",
    "version": 3
   },
   "file_extension": ".py",
   "mimetype": "text/x-python",
   "name": "python",
   "nbconvert_exporter": "python",
   "pygments_lexer": "ipython3",
   "version": "3.9.16"
  }
 },
 "nbformat": 4,
 "nbformat_minor": 5
}
